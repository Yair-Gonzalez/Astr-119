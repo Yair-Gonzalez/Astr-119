{
 "cells": [
  {
   "cell_type": "code",
   "execution_count": null,
   "id": "9f28f77d",
   "metadata": {},
   "outputs": [],
   "source": [
    "import matplotlib.pyplot as plt\n",
    "import numpy as np\n",
    "\n",
    "# numpy array with 1000 values between 0 and 2pi\n",
    "x = np.linspace(0, 2 * np.pi, 1000)\n",
    "\n",
    "# the three functions are listed below using numpy.\n",
    "# creating a new array\n",
    "y1 = 5.5 * np.cos(2 * x) + 5.5\n",
    "y2 = 0.02 * np.exp(x)\n",
    "y3 = 0.25 * np.square(x) + 0.1 * np.sin(10 * x)\n",
    "\n",
    "# plot(a)\n",
    "plt.plot(x, y1)\n",
    "# plot(b)\n",
    "plt.plot(x, y2)\n",
    "# plot(c)\n",
    "plt.plot(x, y3)\n",
    "\n",
    "# x axis range from 0 to 2pi\n",
    "plt.xlim(0, 2 * np.pi)\n",
    "# y axis range from -1 to 10\n",
    "plt.ylim(-1, 10)\n",
    "\n",
    "# axes labels\n",
    "plt.ylabel(\"Measures of Awesomeness\")\n",
    "plt.xlabel(\"Time in ASTR 119\")\n",
    "\n",
    "plt.show()"
   ]
  },
  {
   "cell_type": "code",
   "execution_count": null,
   "id": "fca99317",
   "metadata": {},
   "outputs": [],
   "source": []
  }
 ],
 "metadata": {
  "kernelspec": {
   "display_name": "Python 3 (ipykernel)",
   "language": "python",
   "name": "python3"
  },
  "language_info": {
   "codemirror_mode": {
    "name": "ipython",
    "version": 3
   },
   "file_extension": ".py",
   "mimetype": "text/x-python",
   "name": "python",
   "nbconvert_exporter": "python",
   "pygments_lexer": "ipython3",
   "version": "3.9.7"
  }
 },
 "nbformat": 4,
 "nbformat_minor": 5
}
