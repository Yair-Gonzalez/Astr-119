{
 "cells": [
  {
   "cell_type": "code",
   "execution_count": null,
   "id": "12912b7d",
   "metadata": {},
   "outputs": [],
   "source": [
    "%matplotlib inline\n",
    "import numpy as np\n",
    "import matplotlib.pyplot as plt"
   ]
  },
  {
   "cell_type": "code",
   "execution_count": null,
   "id": "50d949c4",
   "metadata": {},
   "outputs": [],
   "source": [
    "x = np.arange(0, 5, 0.1)   #create x=[0..5] in 0.1 increments\n",
    "y = np.sin(x)              # y = sin(x)\n",
    "plt.plot(x,y)              # make a plot\n",
    "plt.xlabel('x')            # label x axis\n",
    "plt.ylabel('sin(x)')       # label y axis\n",
    "plt.show()                 # show the plot on the screen"
   ]
  },
  {
   "cell_type": "code",
   "execution_count": null,
   "id": "e3240f13",
   "metadata": {},
   "outputs": [],
   "source": [
    "x = np.arange(0, 5, 0.1)   #create x=[0..5] in 0.1 increments\n",
    "y = np.sin(x)              # y = sin(x)\n",
    "plt.plot(x,y)              # make a plot\n",
    "plt.xlabel('x')            # label x axis\n",
    "plt.ylabel('sin(x)')       # label y axis\n",
    "plt.savefig('sinx.png',bbox_inches=\"tight\",dpi=600)"
   ]
  },
  {
   "cell_type": "code",
   "execution_count": null,
   "id": "da272b28",
   "metadata": {},
   "outputs": [],
   "source": []
  }
 ],
 "metadata": {
  "kernelspec": {
   "display_name": "Python 3 (ipykernel)",
   "language": "python",
   "name": "python3"
  },
  "language_info": {
   "codemirror_mode": {
    "name": "ipython",
    "version": 3
   },
   "file_extension": ".py",
   "mimetype": "text/x-python",
   "name": "python",
   "nbconvert_exporter": "python",
   "pygments_lexer": "ipython3",
   "version": "3.9.7"
  }
 },
 "nbformat": 4,
 "nbformat_minor": 5
}
