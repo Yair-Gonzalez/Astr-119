{
 "cells": [
  {
   "cell_type": "code",
   "execution_count": null,
   "id": "53e703dc",
   "metadata": {},
   "outputs": [],
   "source": [
    "import math\n",
    "from scipy.integrate import quad"
   ]
  },
  {
   "cell_type": "code",
   "execution_count": null,
   "id": "60380808",
   "metadata": {},
   "outputs": [],
   "source": [
    "# define function to integrate\n",
    "def function_to_integrate(x):\n",
    "# e^(-2x)*cos(10x)\n",
    "    return math.e**(-2*x)*math.cos(10*x)"
   ]
  },
  {
   "cell_type": "code",
   "execution_count": null,
   "id": "e2e6ffd6",
   "metadata": {},
   "outputs": [],
   "source": [
    "# define lower and upper bound of integration\n",
    "lower_bound = 0\n",
    "upper_bound = math.pi"
   ]
  },
  {
   "cell_type": "code",
   "execution_count": null,
   "id": "38297b4f",
   "metadata": {},
   "outputs": [],
   "source": [
    "# solving the integration\n",
    "result = quad(function_to_integrate, lower_bound, upper_bound)\n",
    "# print the results\n",
    "print(\"Integrating e^(-2x)*cos(10x) from 0 to pi results:\", result[0],\"with error=\",result[1])"
   ]
  },
  {
   "cell_type": "code",
   "execution_count": null,
   "id": "96a4d70d",
   "metadata": {},
   "outputs": [],
   "source": []
  }
 ],
 "metadata": {
  "kernelspec": {
   "display_name": "Python 3 (ipykernel)",
   "language": "python",
   "name": "python3"
  },
  "language_info": {
   "codemirror_mode": {
    "name": "ipython",
    "version": 3
   },
   "file_extension": ".py",
   "mimetype": "text/x-python",
   "name": "python",
   "nbconvert_exporter": "python",
   "pygments_lexer": "ipython3",
   "version": "3.9.7"
  }
 },
 "nbformat": 4,
 "nbformat_minor": 5
}
