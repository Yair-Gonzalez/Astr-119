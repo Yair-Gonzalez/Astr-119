{
 "cells": [
  {
   "cell_type": "code",
   "execution_count": null,
   "id": "8ccf3c10",
   "metadata": {},
   "outputs": [],
   "source": [
    "import numpy as np\n",
    "import matplotlib.pyplot as plt\n",
    "%matplotlib inline"
   ]
  },
  {
   "cell_type": "code",
   "execution_count": null,
   "id": "eb259a64",
   "metadata": {},
   "outputs": [],
   "source": [
    "def func(x):\n",
    "    a = -2\n",
    "    b = 10\n",
    "    return np.exp(a*x)* np.cos(b*x)"
   ]
  },
  {
   "cell_type": "code",
   "execution_count": null,
   "id": "33dff236",
   "metadata": {},
   "outputs": [],
   "source": [
    "def func_integral(x):\n",
    "    a = -2\n",
    "    b = 10\n",
    "    return 5*np.exp(a*x)*np.sin(b*x)/52-np.exp(a*x)*np.cos(b*x)/52"
   ]
  },
  {
   "cell_type": "code",
   "execution_count": null,
   "id": "a82917f1",
   "metadata": {},
   "outputs": [],
   "source": [
    "def trapezoid_core(f,x,h):\n",
    "    return 0.5*h*(f(x+h) + f(x))"
   ]
  },
  {
   "cell_type": "code",
   "execution_count": null,
   "id": "0c485e79",
   "metadata": {},
   "outputs": [],
   "source": [
    "def trapezoid_method(f,a,b,N):\n",
    "    #f (function)\n",
    "    #a (lower limit)\n",
    "    #b (upper limit)\n",
    "    #N (number of evaluations)\n",
    "    \n",
    "    #x values for trapezoid rule\n",
    "    x = np.linspace(a,b,N)\n",
    "    h = x[1]-x[0]\n",
    "    \n",
    "    #value of integral\n",
    "    Fint = 0.0\n",
    "    \n",
    "    #performing trapezoid method integral\n",
    "    for i in range(0,len(x)-1,1):\n",
    "        Fint += trapezoid_core(f,x[i],h)\n",
    "        \n",
    "    return Fint"
   ]
  },
  {
   "cell_type": "code",
   "execution_count": null,
   "id": "791d5202",
   "metadata": {},
   "outputs": [],
   "source": [
    "def simpsons_core(f,x,h):\n",
    "    return h*(f(x) + 4*f(x+h) + f(x+2*h))/3."
   ]
  },
  {
   "cell_type": "code",
   "execution_count": null,
   "id": "9ad451ee",
   "metadata": {},
   "outputs": [],
   "source": [
    "def simpsons_method(f,a,b,N):\n",
    "    #f (function)\n",
    "    #a (lower limit)\n",
    "    #b (upper limit)\n",
    "    #N (number of intervals)\n",
    "    \n",
    "    #x values for simpsons rule\n",
    "    \n",
    "    x = np.linspace(a,b,N)\n",
    "    h = x[1]-x[0]\n",
    "    \n",
    "    Fint = 0.0\n",
    "    \n",
    "    #Simpsons method integration\n",
    "    \n",
    "    for i in range(0,len(x)-2,2):\n",
    "        Fint += simpsons_core(f,x[i],h)\n",
    "        \n",
    "    #simpsons rule for last interval\n",
    "    if((N%2)==0):\n",
    "        Fint += simpsons_core(f,x[-2],0.5*h)\n",
    "        \n",
    "    return Fint"
   ]
  },
  {
   "cell_type": "code",
   "execution_count": null,
   "id": "fb929618",
   "metadata": {},
   "outputs": [],
   "source": [
    "def romberg_core(f,a,b,i):\n",
    "    \n",
    "    #difference between b-a\n",
    "    h = b-a\n",
    "    \n",
    "    #teh interval between the function\n",
    "    dh = h/2.**(i)\n",
    "    \n",
    "    #cofactor\n",
    "    k = h/2.**(i+1)\n",
    "    \n",
    "    #evaluation the function\n",
    "    M = 0.0\n",
    "    for j in range (2**i):\n",
    "        M += f(a + 0.5*dh + j*dh)\n",
    "        \n",
    "    return K*M"
   ]
  },
  {
   "cell_type": "code",
   "execution_count": null,
   "id": "664384f4",
   "metadata": {},
   "outputs": [],
   "source": [
    "def romberg_integration(f,a,b,tol):\n",
    "    \n",
    "    #iteration variable\n",
    "    i=0\n",
    "    \n",
    "    #max number of iterations\n",
    "    imax = 1000\n",
    "    \n",
    "    #error estimate \n",
    "    delta = 100.0*np.fabs(tol)\n",
    "    \n",
    "    #array of answers\n",
    "    I = np.zeros(imax,dtype=float)\n",
    "    \n",
    "    #zeroth romberg iteration\n",
    "    I[0] = 0.5*(b-a)*(f(a) + f(b))\n",
    "    \n",
    "    #iterate by 1\n",
    "    i += 1\n",
    "    \n",
    "    #define tolerance\n",
    "    \n",
    "    while(delta>tol):\n",
    "        \n",
    "        #finding the Romberg iteration\n",
    "        I[i] = 0.5*I[i-1] + romberg_core(f,a,b,i)\n",
    "        \n",
    "        #new fraction error estimate\n",
    "        delta = np.fabs((I[i]-I[i-1])/I[i])\n",
    "        \n",
    "        print(i,I[i],I[i-1],delta)\n",
    "        \n",
    "        if(delta>tol):\n",
    "            \n",
    "            i+=1\n",
    "            \n",
    "            if(i>max):\n",
    "                print(\"Max iterations reached.\")\n",
    "                raise StopIteration('Stoppin iterations after ',i)\n",
    "                \n",
    "    return I[i]"
   ]
  },
  {
   "cell_type": "code",
   "execution_count": null,
   "id": "351cee6e",
   "metadata": {},
   "outputs": [],
   "source": [
    "Answer = func_integral(np.pi)-func_integral(0)\n",
    "print(Answer)\n",
    "print(\"Trapezoid\")\n",
    "print(trapezoid_method(func,0,np.pi,1000000))\n",
    "print(\"Simpson's Method\")\n",
    "print(simpsons_method(func,0,np.pi,1000000))\n",
    "print(\"Romberg\")\n",
    "tolerance = 1.0e-6\n",
    "RI = romberg_integration(func,0,np.pi,tolerance)\n",
    "print(RI, (RI-Answer)/Answer, tolerance)\n",
    "\n",
    "print(\"The romberg integration took 25+ iterations.\")\n",
    "print(\"The trapezoid method needed 1000000 intervals.\")\n",
    "print(\"Simpson's method needed 1000000 intervals.\")"
   ]
  },
  {
   "cell_type": "code",
   "execution_count": null,
   "id": "8741777d",
   "metadata": {},
   "outputs": [],
   "source": []
  },
  {
   "cell_type": "code",
   "execution_count": null,
   "id": "b2d62846",
   "metadata": {},
   "outputs": [],
   "source": []
  }
 ],
 "metadata": {
  "kernelspec": {
   "display_name": "Python 3 (ipykernel)",
   "language": "python",
   "name": "python3"
  },
  "language_info": {
   "codemirror_mode": {
    "name": "ipython",
    "version": 3
   },
   "file_extension": ".py",
   "mimetype": "text/x-python",
   "name": "python",
   "nbconvert_exporter": "python",
   "pygments_lexer": "ipython3",
   "version": "3.9.7"
  }
 },
 "nbformat": 4,
 "nbformat_minor": 5
}
