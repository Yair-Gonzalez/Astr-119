{
 "cells": [
  {
   "cell_type": "code",
   "execution_count": null,
   "id": "65eb3613",
   "metadata": {},
   "outputs": [],
   "source": [
    "import matplotlib.pyplot as plt\n",
    "import numpy as np"
   ]
  },
  {
   "cell_type": "code",
   "execution_count": null,
   "id": "13d97ffa",
   "metadata": {},
   "outputs": [],
   "source": [
    "def bisection_method(f,a,b,tol,show_iterations=False):\n",
    "    if f(a)*f(b)>=0:\n",
    "        print(\"Invalid Interval\")\n",
    "        return\n",
    "    else:\n",
    "        est_roots=[a,b]\n",
    "        count=0\n",
    "        while True:\n",
    "            c=(a+b)/2\n",
    "            est_roots.append(c)\n",
    "            if abs(f(c))<=tol:\n",
    "                break\n",
    "            if f(a)*f(c)<0:\n",
    "                b=c\n",
    "            else:\n",
    "                a=c\n",
    "            count+=1\n",
    "        if show_iterations:\n",
    "            print(f\"Number of Iterations performed: {count}\")\n",
    "            print(f\"The root is {c}\")\n",
    "            return est_roots\n",
    "        else:\n",
    "            print(f\"The root is {c}\")\n",
    "            \n",
    "f=lambda x:1.01*x**2-3.04*x+2.07"
   ]
  },
  {
   "cell_type": "code",
   "execution_count": null,
   "id": "8c2ba281",
   "metadata": {},
   "outputs": [],
   "source": [
    "print(\"Root 1\")\n",
    "bisection_method(f,0.5,1.5,10**(-6))\n",
    "print(\"Root 2\")\n",
    "bisection_method(f,1.5,2.5,10**(-6))"
   ]
  },
  {
   "cell_type": "code",
   "execution_count": null,
   "id": "c6877517",
   "metadata": {},
   "outputs": [],
   "source": [
    "#part 2\n",
    "print(\"Root 1\")\n",
    "roots1=bisection_method(f,0.5,1.5,10**(-6),True)\n",
    "print(\"Root 2\")\n",
    "roots2=bisection_method(f,1.5,2.5,10**(-6),True)"
   ]
  },
  {
   "cell_type": "code",
   "execution_count": null,
   "id": "f1c49184",
   "metadata": {},
   "outputs": [],
   "source": [
    "#part 3\n",
    "x=np.linspace(0,3,1000)\n",
    "plt.plot([0,3],[0,0],'k')  #plotting horizontal line at y=0\n",
    "plt.plot(x,f(x))     #plotting the function\n",
    "plt.plot(roots1,np.zeros(len(roots1)),'or')   #plotting the roots\n",
    "plt.plot(roots2,np.zeros(len(roots2)),'og')   #plotting the  roots\n",
    "plt.xlim(0,3)\n",
    "plt.ylim(-0.5,2.1)\n",
    "plt.show()"
   ]
  },
  {
   "cell_type": "code",
   "execution_count": null,
   "id": "89d0a245",
   "metadata": {},
   "outputs": [],
   "source": []
  }
 ],
 "metadata": {
  "kernelspec": {
   "display_name": "Python 3 (ipykernel)",
   "language": "python",
   "name": "python3"
  },
  "language_info": {
   "codemirror_mode": {
    "name": "ipython",
    "version": 3
   },
   "file_extension": ".py",
   "mimetype": "text/x-python",
   "name": "python",
   "nbconvert_exporter": "python",
   "pygments_lexer": "ipython3",
   "version": "3.9.7"
  }
 },
 "nbformat": 4,
 "nbformat_minor": 5
}
